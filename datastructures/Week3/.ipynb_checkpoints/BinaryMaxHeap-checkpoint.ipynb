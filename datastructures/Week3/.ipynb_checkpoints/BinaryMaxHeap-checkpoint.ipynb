{
 "cells": [
  {
   "cell_type": "code",
   "execution_count": 2,
   "metadata": {
    "collapsed": false
   },
   "outputs": [
    {
     "name": "stdout",
     "output_type": "stream",
     "text": [
      "False\n",
      "True\n"
     ]
    }
   ],
   "source": [
    "import math\n",
    "\n",
    "class BinaryMaxHeap:\n",
    "    def __init__(self,maxSize):\n",
    "        self.nodes = [0]*maxSize\n",
    "        self.size = 0\n",
    "    \n",
    "    def siftUp(self,node):\n",
    "        while node > 0:\n",
    "            parent = (node-1)//2\n",
    "            if self.nodes[node] > self.nodes[parent]:\n",
    "                self.nodes[node],self.nodes[parent] = self.nodes[parent],self.nodes[node]\n",
    "                node = parent\n",
    "    \n",
    "    def siftDown(self,node):\n",
    "        while node < size:\n",
    "            leftNode = 2*node + 1\n",
    "            if leftNode < size and self.nodes[leftNode] > self.nodes[node]:\n",
    "                self.nodes[leftNode],self.nodes[node] = self.nodes[node],self.nodes[leftNode]\n",
    "                node = leftNode\n",
    "                continue\n",
    "            \n",
    "            rightNode = 2*node + 2\n",
    "            if rightNode < size and self.nodes[rightNode] > self.nodes[node]:\n",
    "                self.nodes[rightNode],self.nodes[node] = self.nodes[node],self.nodes[rightNode]\n",
    "                node = rightNode\n",
    "                continue\n",
    "            \n",
    "            break\n",
    "    \n",
    "    def insert(self,val):\n",
    "        if (self.size + 1) > self.maxSize:\n",
    "            raise MemoryError('Crosses MaxSize')\n",
    "        \n",
    "        self.size += 1\n",
    "        self.nodes[self.size-1] = val\n",
    "        self.siftUp(self.size-1)\n",
    "        \n",
    "    def extractMax(self):\n",
    "        if self.nodes.length == 0:\n",
    "            raise MemoryError('Tree is empty')\n",
    "            \n",
    "        res = self.nodes[0]\n",
    "        self.nodes[0] = self.nodes[size-1]\n",
    "        self.size -= 1\n",
    "        self.siftDown(0)\n",
    "        return res\n",
    "        \n",
    "    def remove(self,node):\n",
    "        if node >= size or node < 0:\n",
    "            raise MemoryError('Outside of the bounds of Heap')\n",
    "            \n",
    "        self.nodes[node] = math.inf\n",
    "        self.siftUp(node)\n",
    "        self.extractMax()\n",
    "        \n",
    "    def changePriority(self,node,newPri):\n",
    "        if node >= size or node < 0:\n",
    "            raise MemoryError('Outside of the bounds of Heap')                    \n",
    "        \n",
    "        currentPri = self.nodes[node]\n",
    "        self.nodes[node] = newPri\n",
    "        if currentPri > newPri:\n",
    "            self.siftDown(node)\n",
    "        elif currentPri < newPri:\n",
    "            self.siftUp(node)\n",
    "\n",
    "            \n",
    "        \n",
    "        \n",
    "    \n",
    "    \n",
    "    "
   ]
  },
  {
   "cell_type": "code",
   "execution_count": null,
   "metadata": {
    "collapsed": true
   },
   "outputs": [],
   "source": []
  }
 ],
 "metadata": {
  "kernelspec": {
   "display_name": "Python 3",
   "language": "python",
   "name": "python3"
  },
  "language_info": {
   "codemirror_mode": {
    "name": "ipython",
    "version": 3
   },
   "file_extension": ".py",
   "mimetype": "text/x-python",
   "name": "python",
   "nbconvert_exporter": "python",
   "pygments_lexer": "ipython3",
   "version": "3.5.2"
  }
 },
 "nbformat": 4,
 "nbformat_minor": 2
}
