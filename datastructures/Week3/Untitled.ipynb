{
 "cells": [
  {
   "cell_type": "code",
   "execution_count": 10,
   "metadata": {
    "collapsed": false
   },
   "outputs": [
    {
     "name": "stdout",
     "output_type": "stream",
     "text": [
      "[1, 2, 3, 4, 5]\n",
      "[]\n"
     ]
    }
   ],
   "source": [
    "def siftDown(original,swaps,i):\n",
    "    size = len(original)\n",
    "    leftChild = 2*i+1\n",
    "    rightChild = 2*i+2\n",
    "\n",
    "    while leftChild < size:\n",
    "        m = original[leftChild]\n",
    "        if rightChild < size:\n",
    "            m = min(original[leftChild],original[rightChild])\n",
    "        \n",
    "        if m == original[leftChild] and original[i] > original[leftChild]:\n",
    "            swaps.append((i,leftChild))\n",
    "            original[leftChild],original[i] = original[i],original[leftChild]\n",
    "            i = 2*i + 1\n",
    "        elif m == original[rightChild] and original[i] > original[rightChild]:\n",
    "            swaps.append((i,rightChild))\n",
    "            original[rightChild],original[i] = original[i],original[rightChild]\n",
    "            i = 2*i + 2\n",
    "        else:\n",
    "            i = 2*i + 2\n",
    "            \n",
    "        leftChild = 2*i + 1\n",
    "        rightChild = 2*i + 2\n",
    "    return swaps\n",
    "\n",
    "def BinaryMinHeap(original):\n",
    "    swaps = []\n",
    "    length = len(original)\n",
    "    if length > 1 :\n",
    "        for i in range(length//2,-1,-1):\n",
    "            siftDown(original,swaps,i)\n",
    "    print(original)\n",
    "    return swaps\n",
    "\n",
    "l = [1,2,3,4,5]\n",
    "print(BinaryMinHeap(l))"
   ]
  },
  {
   "cell_type": "code",
   "execution_count": null,
   "metadata": {
    "collapsed": true
   },
   "outputs": [],
   "source": []
  }
 ],
 "metadata": {
  "kernelspec": {
   "display_name": "Python 3",
   "language": "python",
   "name": "python3"
  },
  "language_info": {
   "codemirror_mode": {
    "name": "ipython",
    "version": 3
   },
   "file_extension": ".py",
   "mimetype": "text/x-python",
   "name": "python",
   "nbconvert_exporter": "python",
   "pygments_lexer": "ipython3",
   "version": "3.5.2"
  }
 },
 "nbformat": 4,
 "nbformat_minor": 2
}
